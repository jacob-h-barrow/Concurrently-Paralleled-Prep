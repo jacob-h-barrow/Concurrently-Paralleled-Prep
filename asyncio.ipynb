{
 "cells": [
  {
   "cell_type": "markdown",
   "metadata": {},
   "source": [
    "# Asyncio High-Level Review\n",
    "- Writing concurrent code using the async/await syntax\n",
    "\n",
    "- Coroutines and Tasks\n",
    "    - Thing we strive to make async/await\n",
    "    - Needs an entry-point: asyncio.run() -> top-level main\n",
    "\n",
    "- Awaitable: things with an await dunder\n",
    "    - Three types: coroutines, Tasks, Futures\n",
    "\n",
    "- Coroutine definition\n",
    "    1. A function: async def signature\n",
    "    2. Object: returned by calling a coroutine function\n",
    "\n",
    "- Future: low-level awaitable object which represents an eventual result of an async op\n",
    "\n",
    "## Methods of Interest\n",
    "    - Creating Tasks\n",
    "        1. asyncio.create_task(coro, *, name=None, context=None)\n",
    "            - If a reference isn't saved, a fire and forget could lose the task\n",
    "        2. asyncio.TaskGroup -> context manager way\n",
    "            - Downside: waits for all tasks in the group to finish\n",
    "            - *Downside/Plus: early exits don't raise the asyncio.CancelledError exception, tons of exceptions to this rule!!\n",
    "                - Due to this, managing through create_task is better/more granular!\n",
    "    - Running Tasks\n",
    "        1. asyncio.run(coro, *, debug=None, loop_factory=None)\n",
    "        2. class asyncio.Runner(*, debug=None, loop_factory=None)\n",
    "            - Ways to operate\n",
    "                - run(coro, *, context=None)\n",
    "                - close()\n",
    "                - get_loop()\n",
    "            - Notes\n",
    "                - Runner uses the lazy initialization strategy, its constructor doesn’t initialize underlying low-level structures\n",
    "                - Embedded loop and context are created at the with body entering or the first call of run() or get_loop()\n",
    "                - Installs a custom signal.SIGINT handler before any user code is executed and removes it when exiting from the function\n",
    "        3. [Within an asyncio function] awaitable asyncio.gather(*aws, return_exceptions=False)\n",
    "            - Same as creating tasks number 2: dont do it. This way you don't have to use shielding\n",
    "\n",
    "    - Waiting\n",
    "        1. The asyncio.timeout() context manager is what transforms the asyncio.CancelledError into a TimeoutError \n",
    "        2. async asyncio.wait_for(aw, timeout)\n",
    "        3. asyncio.as_completed(aws, *, timeout=None) -> returns an iterable\n",
    "            - Async iterator supplied\n",
    "            - Avoid if possible as the task completion makes it difficult \n",
    "\n",
    "    - Introspection\n",
    "        1. asyncio.current_task(loop=None) -> returns the currently running Task instance, or None\n",
    "        2. asyncio.iscoroutine(obj) -> returns bool\n",
    "\n",
    "## High-Level Task Object\n",
    "- class asyncio.Task(coro, *, loop=None, name=None, context=None, eager_start=False)\n",
    "- A Future-like object that runs a Python coroutine. Not threadsafe!\n",
    "- Used to run coroutines in event loops\n",
    "    - If a coroutine awaits on a Future, the Task suspends the execution of the coroutine and waits for the completion of the Future\n",
    "    - When the Future is done, the execution of the wrapped coroutine resumes\n",
    "- asyncio.Task inherits from Future all of its APIs except Future.set_result() and Future.set_exception()\n",
    "- Some methods: done(), result(), get_name(), set_name(value), cancel(msg=None)\n",
    "\n",
    "## Event Loop\n",
    "- Event loops use cooperative scheduling (on Task at a time)\n",
    "- Use the high-level asyncio.create_task() function to create Tasks, or the low-level loop.create_task() or ensure_future() functions.\n",
    "- add_done_callback(callback, *, context=None)\n",
    "\n",
    "## Future Addition\n",
    "- Call Graph Introspection (3.14)\n",
    "- asyncio.to_thread(...)\n",
    "- asyncio.run_coroutine_threadsafe(...)\n",
    "- Low-Level Futures and Event Loop (good for tail tracking of a file)\n"
   ]
  },
  {
   "cell_type": "code",
   "execution_count": 8,
   "metadata": {},
   "outputs": [],
   "source": [
    "import asyncio\n",
    "import time\n",
    "\n",
    "from asyncio import TaskGroup"
   ]
  },
  {
   "cell_type": "code",
   "execution_count": null,
   "metadata": {},
   "outputs": [],
   "source": [
    "ipv4_connect = asyncio.create_task(asyncio.open_connection(\"127.0.0.1\", 80))\n",
    "ipv6_connect = asyncio.create_task(asyncio.open_connection(\"::1\", 80))\n",
    "tasks = [ipv4_connect, ipv6_connect]\n",
    "\n",
    "async for earliest_connect in asyncio.as_completed(tasks):\n",
    "    # earliest_connect is done. The result can be obtained by\n",
    "    # awaiting it or calling earliest_connect.result()\n",
    "    reader, writer = await earliest_connect\n",
    "\n",
    "    if earliest_connect is ipv6_connect:\n",
    "        print(\"IPv6 connection established.\")\n",
    "    else:\n",
    "        print(\"IPv4 connection established.\")"
   ]
  },
  {
   "cell_type": "code",
   "execution_count": null,
   "metadata": {},
   "outputs": [],
   "source": [
    "async def main():\n",
    "    await asyncio.sleep(1)\n",
    "    print('hello')\n",
    "\n",
    "with asyncio.Runner() as runner:\n",
    "    runner.run(main())"
   ]
  },
  {
   "cell_type": "code",
   "execution_count": null,
   "metadata": {},
   "outputs": [],
   "source": [
    "async def main():\n",
    "    try:\n",
    "        async with asyncio.timeout(10):\n",
    "            await long_running_task()\n",
    "    except TimeoutError:\n",
    "        print(\"The long operation timed out, but we've handled it.\")\n",
    "\n",
    "    try:\n",
    "        await asyncio.wait_for(eternity(), timeout=1.6)\n",
    "    except TimeoutError:\n",
    "        print('timeout!')\n",
    "\n",
    "    print(\"This statement will run regardless.\")"
   ]
  },
  {
   "cell_type": "code",
   "execution_count": null,
   "metadata": {},
   "outputs": [],
   "source": [
    "async def display_date():\n",
    "    loop = asyncio.get_running_loop()\n",
    "    end_time = loop.time() + 5.0\n",
    "    while True:\n",
    "        print(datetime.datetime.now())\n",
    "        if (loop.time() + 1.0) >= end_time:\n",
    "            break\n",
    "        await asyncio.sleep(1)"
   ]
  },
  {
   "cell_type": "code",
   "execution_count": 9,
   "metadata": {},
   "outputs": [],
   "source": [
    "async def job(task_id, sleep_time):\n",
    "    print(f'Task {task_id}: start')\n",
    "    await asyncio.sleep(sleep_time)\n",
    "    print(f'Task {task_id}: done')"
   ]
  },
  {
   "cell_type": "code",
   "execution_count": 10,
   "metadata": {},
   "outputs": [],
   "source": [
    "async def main():\n",
    "    async with asyncio.TaskGroup() as tg:\n",
    "        task1 = tg.create_task(\n",
    "            job(1, 1))\n",
    "\n",
    "        task2 = tg.create_task(\n",
    "            job(2, 2))\n",
    "\n",
    "        print(f\"started at {time.strftime('%X')}\")\n",
    "\n",
    "    # The await is implicit when the context manager exits.\n",
    "\n",
    "    print(f\"finished at {time.strftime('%X')}\")"
   ]
  },
  {
   "cell_type": "code",
   "execution_count": 11,
   "metadata": {},
   "outputs": [
    {
     "data": {
      "text/plain": [
       "<coroutine object main at 0x75507c593d80>"
      ]
     },
     "execution_count": 11,
     "metadata": {},
     "output_type": "execute_result"
    }
   ],
   "source": [
    "class TerminateTaskGroup(Exception):\n",
    "    \"\"\"Exception raised to terminate a task group.\"\"\"\n",
    "\n",
    "async def force_terminate_task_group():\n",
    "    \"\"\"Used to force termination of a task group.\"\"\"\n",
    "    raise TerminateTaskGroup()\n",
    "\n",
    "async def main():\n",
    "    try:\n",
    "        async with TaskGroup() as group:\n",
    "            # spawn some tasks\n",
    "            group.create_task(job(1, 0.5))\n",
    "            group.create_task(job(2, 1.5))\n",
    "            # sleep for 1 second\n",
    "            await asyncio.sleep(1)\n",
    "            # add an exception-raising task to force the group to terminate\n",
    "            group.create_task(force_terminate_task_group())\n",
    "    except* TerminateTaskGroup:\n",
    "        pass\n",
    "\n",
    "# Usually asyncio.run(main()) required but not in a notebook\n",
    "main()"
   ]
  },
  {
   "cell_type": "code",
   "execution_count": null,
   "metadata": {},
   "outputs": [],
   "source": []
  }
 ],
 "metadata": {
  "kernelspec": {
   "display_name": "Python 3",
   "language": "python",
   "name": "python3"
  },
  "language_info": {
   "codemirror_mode": {
    "name": "ipython",
    "version": 3
   },
   "file_extension": ".py",
   "mimetype": "text/x-python",
   "name": "python",
   "nbconvert_exporter": "python",
   "pygments_lexer": "ipython3",
   "version": "3.12.3"
  }
 },
 "nbformat": 4,
 "nbformat_minor": 2
}
